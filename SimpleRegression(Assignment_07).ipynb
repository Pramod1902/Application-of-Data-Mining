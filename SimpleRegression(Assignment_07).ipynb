{
  "nbformat": 4,
  "nbformat_minor": 0,
  "metadata": {
    "colab": {
      "provenance": [],
      "authorship_tag": "ABX9TyOKagpnZh7BwKkSTJZeEzLF",
      "include_colab_link": true
    },
    "kernelspec": {
      "name": "python3",
      "display_name": "Python 3"
    },
    "language_info": {
      "name": "python"
    }
  },
  "cells": [
    {
      "cell_type": "markdown",
      "metadata": {
        "id": "view-in-github",
        "colab_type": "text"
      },
      "source": [
        "<a href=\"https://colab.research.google.com/github/Pramod1902/Application-of-Data-Mining/blob/main/SimpleRegression(Assignment_07).ipynb\" target=\"_parent\"><img src=\"https://colab.research.google.com/assets/colab-badge.svg\" alt=\"Open In Colab\"/></a>"
      ]
    },
    {
      "cell_type": "code",
      "execution_count": 19,
      "metadata": {
        "id": "TyddAex6D0NQ"
      },
      "outputs": [],
      "source": [
        "import warnings\n",
        "import numpy as np\n",
        "import pandas as pd\n",
        "import matplotlib.pyplot as plt\n",
        "import seaborn as sns\n",
        "import statsmodels.api as sm\n",
        "from sklearn.model_selection import train_test_split\n",
        "from sklearn.metrics import mean_squared_error, r2_score"
      ]
    },
    {
      "cell_type": "code",
      "source": [
        "data=pd.read_csv(\"/content/SLR_Salary_dataset.csv\")\n",
        "print(data)"
      ],
      "metadata": {
        "colab": {
          "base_uri": "https://localhost:8080/"
        },
        "id": "Y1-gYB1iF2E6",
        "outputId": "fcd0b97c-c720-4a22-961b-2e58d5ccacbd"
      },
      "execution_count": 20,
      "outputs": [
        {
          "output_type": "stream",
          "name": "stdout",
          "text": [
            "    Unnamed: 0  YearsExperience    Salary\n",
            "0            0              1.2   39344.0\n",
            "1            1              1.4   46206.0\n",
            "2            2              1.6   37732.0\n",
            "3            3              2.1   43526.0\n",
            "4            4              2.3   39892.0\n",
            "5            5              3.0   56643.0\n",
            "6            6              3.1   60151.0\n",
            "7            7              3.3   54446.0\n",
            "8            8              3.3   64446.0\n",
            "9            9              3.8   57190.0\n",
            "10          10              4.0   63219.0\n",
            "11          11              4.1   55795.0\n",
            "12          12              4.1   56958.0\n",
            "13          13              4.2   57082.0\n",
            "14          14              4.6   61112.0\n",
            "15          15              5.0   67939.0\n",
            "16          16              5.2   66030.0\n",
            "17          17              5.4   83089.0\n",
            "18          18              6.0   81364.0\n",
            "19          19              6.1   93941.0\n",
            "20          20              6.9   91739.0\n",
            "21          21              7.2   98274.0\n",
            "22          22              8.0  101303.0\n",
            "23          23              8.3  113813.0\n",
            "24          24              8.8  109432.0\n",
            "25          25              9.1  105583.0\n",
            "26          26              9.6  116970.0\n",
            "27          27              9.7  112636.0\n",
            "28          28             10.4  122392.0\n",
            "29          29             10.6  121873.0\n"
          ]
        }
      ]
    },
    {
      "cell_type": "code",
      "source": [
        "data = data.drop('Unnamed: 0', axis=1)"
      ],
      "metadata": {
        "id": "QkL73t8oGcsw"
      },
      "execution_count": 21,
      "outputs": []
    },
    {
      "cell_type": "code",
      "source": [
        "print(\"Null Values in Dataset:\")\n",
        "print(data.isnull().sum())"
      ],
      "metadata": {
        "colab": {
          "base_uri": "https://localhost:8080/"
        },
        "id": "XXmhBrJtGwRQ",
        "outputId": "93549606-381f-4adc-f245-b38fb04d1949"
      },
      "execution_count": 22,
      "outputs": [
        {
          "output_type": "stream",
          "name": "stdout",
          "text": [
            "Null Values in Dataset:\n",
            "YearsExperience    0\n",
            "Salary             0\n",
            "dtype: int64\n"
          ]
        }
      ]
    },
    {
      "cell_type": "code",
      "source": [
        "print(\"\\nMean:\")\n",
        "print(data.mean())\n",
        "print(\"\\nMedian:\")\n",
        "print(data.median())\n",
        "print(\"\\nMode:\")\n",
        "print(data.mode().iloc[0])"
      ],
      "metadata": {
        "colab": {
          "base_uri": "https://localhost:8080/"
        },
        "id": "mWBg3L91Je-m",
        "outputId": "ff1bf29a-8768-4a6f-d444-dee25cdf4b49"
      },
      "execution_count": 23,
      "outputs": [
        {
          "output_type": "stream",
          "name": "stdout",
          "text": [
            "\n",
            "Mean:\n",
            "YearsExperience        5.413333\n",
            "Salary             76004.000000\n",
            "dtype: float64\n",
            "\n",
            "Median:\n",
            "YearsExperience        4.8\n",
            "Salary             65238.0\n",
            "dtype: float64\n",
            "\n",
            "Mode:\n",
            "YearsExperience        3.3\n",
            "Salary             37732.0\n",
            "Name: 0, dtype: float64\n"
          ]
        }
      ]
    },
    {
      "cell_type": "code",
      "source": [
        "X = data['YearsExperience']\n",
        "y = data['Salary']"
      ],
      "metadata": {
        "id": "1-GliY_JJnF_"
      },
      "execution_count": 24,
      "outputs": []
    },
    {
      "cell_type": "code",
      "source": [
        "X_train, X_test, y_train, y_test = train_test_split(X, y, train_size=0.8, test_size=0.2, random_state=100)"
      ],
      "metadata": {
        "id": "v2iMZVRJJySf"
      },
      "execution_count": 25,
      "outputs": []
    },
    {
      "cell_type": "code",
      "source": [
        "X_train_sm = sm.add_constant(X_train)"
      ],
      "metadata": {
        "id": "UDPzSuk4Ko0n"
      },
      "execution_count": 26,
      "outputs": []
    },
    {
      "cell_type": "code",
      "source": [
        "lr = sm.OLS(y_train, X_train_sm).fit()\n",
        "print(lr.summary())"
      ],
      "metadata": {
        "colab": {
          "base_uri": "https://localhost:8080/"
        },
        "id": "g7NrawJGKszR",
        "outputId": "f27bef3f-3b59-4b6f-d333-4f0fd09146fc"
      },
      "execution_count": 28,
      "outputs": [
        {
          "output_type": "stream",
          "name": "stdout",
          "text": [
            "                            OLS Regression Results                            \n",
            "==============================================================================\n",
            "Dep. Variable:                 Salary   R-squared:                       0.951\n",
            "Model:                            OLS   Adj. R-squared:                  0.949\n",
            "Method:                 Least Squares   F-statistic:                     430.7\n",
            "Date:                Mon, 17 Mar 2025   Prob (F-statistic):           6.14e-16\n",
            "Time:                        08:14:29   Log-Likelihood:                -241.95\n",
            "No. Observations:                  24   AIC:                             487.9\n",
            "Df Residuals:                      22   BIC:                             490.3\n",
            "Df Model:                           1                                         \n",
            "Covariance Type:            nonrobust                                         \n",
            "===================================================================================\n",
            "                      coef    std err          t      P>|t|      [0.025      0.975]\n",
            "-----------------------------------------------------------------------------------\n",
            "const            2.588e+04   2691.427      9.617      0.000    2.03e+04    3.15e+04\n",
            "YearsExperience  9361.1164    451.066     20.753      0.000    8425.664    1.03e+04\n",
            "==============================================================================\n",
            "Omnibus:                        1.950   Durbin-Watson:                   1.771\n",
            "Prob(Omnibus):                  0.377   Jarque-Bera (JB):                1.237\n",
            "Skew:                           0.265   Prob(JB):                        0.539\n",
            "Kurtosis:                       2.022   Cond. No.                         13.3\n",
            "==============================================================================\n",
            "\n",
            "Notes:\n",
            "[1] Standard Errors assume that the covariance matrix of the errors is correctly specified.\n"
          ]
        }
      ]
    },
    {
      "cell_type": "code",
      "source": [
        "plt.scatter(X_train, y_train, color='blue', label='Actual')\n",
        "plt.plot(X_train, lr.predict(X_train_sm), color='red', label='Fitted Line')\n",
        "plt.title('Salary vs Years of Experience (Training Set)')\n",
        "plt.xlabel('Years of Experience')\n",
        "plt.ylabel('Salary')\n",
        "plt.legend()\n",
        "plt.show()"
      ],
      "metadata": {
        "colab": {
          "base_uri": "https://localhost:8080/",
          "height": 472
        },
        "id": "SGCdZi0eKzOd",
        "outputId": "c6d6fd59-d93f-403d-9867-8c396d6b957c"
      },
      "execution_count": 29,
      "outputs": [
        {
          "output_type": "display_data",
          "data": {
            "text/plain": [
              "<Figure size 640x480 with 1 Axes>"
            ],
            "image/png": "[encoded data removed]"
          },
          "metadata": {}
        }
      ]
    },
    {
      "cell_type": "code",
      "source": [
        "X_test_sm = sm.add_constant(X_test)\n",
        "y_pred = lr.predict(X_test_sm)"
      ],
      "metadata": {
        "id": "VF_LMkMpK3JW"
      },
      "execution_count": 30,
      "outputs": []
    },
    {
      "cell_type": "code",
      "source": [
        "mse = mean_squared_error(y_test, y_pred)\n",
        "rmse = np.sqrt(mse)\n",
        "r_squared = r2_score(y_test, y_pred)"
      ],
      "metadata": {
        "id": "H9O-l4f3K9j_"
      },
      "execution_count": 31,
      "outputs": []
    },
    {
      "cell_type": "code",
      "source": [
        "n = X_test.shape[0]\n",
        "p = 1  # Number of predictors\n",
        "adjusted_r_squared = 1 - (1-r_squared) * (n-1) / (n-p-1)\n",
        "print(\"MSE:\", mse)\n",
        "print(\"RMSE:\", rmse)\n",
        "print(\"R-squared:\", r_squared)\n",
        "print(\"Adjusted R-squared:\", adjusted_r_squared)"
      ],
      "metadata": {
        "colab": {
          "base_uri": "https://localhost:8080/"
        },
        "id": "bALC_kk_LBkP",
        "outputId": "b6a19ed4-4091-4af7-c518-0d8c1e7ebba3"
      },
      "execution_count": 32,
      "outputs": [
        {
          "output_type": "stream",
          "name": "stdout",
          "text": [
            "MSE: 24477109.089655835\n",
            "RMSE: 4947.434596804271\n",
            "R-squared: 0.9720725422361337\n",
            "Adjusted R-squared: 0.9650906777951671\n"
          ]
        }
      ]
    }
  ]
}